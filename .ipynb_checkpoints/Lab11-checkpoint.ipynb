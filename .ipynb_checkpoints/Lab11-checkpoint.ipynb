{
 "cells": [
  {
   "cell_type": "code",
   "execution_count": null,
   "id": "31aa0107-7db1-47b1-8b5f-54d4a5ebf94a",
   "metadata": {},
   "outputs": [],
   "source": [
    "# Ignore warnings\n",
    "import warnings\n",
    "warnings.filterwarnings('ignore')\n",
    "warnings.simplefilter(action='ignore', category=FutureWarning)\n",
    "\n",
    "# Data manipulation\n",
    "import pandas as pd\n",
    "import numpy as np\n",
    "\n",
    "# Plotting\n",
    "import matplotlib.pyplot as plt\n",
    "import seaborn as sns\n",
    "# plt.rcParams['figure.figsize'] = (20,10)\n",
    "# plt.style.use('fivethirtyeight')\n",
    "\n",
    "# Preprocessing\n",
    "from sklearn.preprocessing import MinMaxScaler\n",
    "from sklearn.pipeline import Pipeline\n",
    "from sklearn.model_selection import (\n",
    "                                    train_test_split,\n",
    "                                    RandomizedSearchCV,\n",
    "                                    TimeSeriesSplit,\n",
    "                                    cross_val_score\n",
    "                                    )\n",
    "\n",
    "# Classifier\n",
    "from xgboost import XGBClassifier, plot_importance, to_graphviz\n",
    "\n",
    "# metrics\n",
    "from sklearn.metrics import (precision_recall_curve,\n",
    "                             roc_curve,\n",
    "                             RocCurveDisplay,\n",
    "                             ConfusionMatrixDisplay\n",
    "                            )\n",
    "from sklearn.metrics import (accuracy_score,\n",
    "                             f1_score,\n",
    "                             recall_score,\n",
    "                             precision_score,\n",
    "                             roc_auc_score,\n",
    "                             auc\n",
    "                            )\n",
    "from sklearn.metrics import (classification_report,\n",
    "                             confusion_matrix\n",
    "                            )"
   ]
  },
  {
   "cell_type": "code",
   "execution_count": null,
   "id": "09794f65-c3a1-4976-9b60-518446286498",
   "metadata": {},
   "outputs": [],
   "source": [
    "# Load file\n",
    "# file_path = '/Users/roshan/Library/CloudStorage/GoogleDrive-<email>/My Drive/2023/cqf/data/spy.csv'\n",
    "df = pd.read_csv('data/spy.csv', index_col=0, parse_dates=True)[['Adj Close']]\n",
    "\n",
    "# Calculate returns\n",
    "df['Returns'] = np.log(df).diff()\n",
    "df['Ret_1M'] = df['Returns'].rolling(20).sum()\n",
    "\n",
    "# Output first five values\n",
    "df.head()"
   ]
  },
  {
   "cell_type": "code",
   "execution_count": null,
   "id": "32817207-0a8a-49eb-94f8-ff455537d9ef",
   "metadata": {},
   "outputs": [],
   "source": [
    "# Descriptive statistics\n",
    "df.describe()"
   ]
  },
  {
   "cell_type": "code",
   "execution_count": null,
   "id": "59b28df3-9e99-4295-befb-0dc9408ad7bd",
   "metadata": {},
   "outputs": [],
   "source": [
    "# Check for missing values\n",
    "df.isnull().sum()"
   ]
  },
  {
   "cell_type": "code",
   "execution_count": null,
   "id": "6e4a8b7b-df14-4600-8d0e-b56c43def76c",
   "metadata": {},
   "outputs": [],
   "source": [
    "# Create features (predictors) list\n",
    "features_list = []\n",
    "for r in range(10, 65, 5):\n",
    "    df['Ret_'+str(r)] = df.Returns.rolling(r).sum()\n",
    "    df['Std_'+str(r)] = df.Returns.rolling(r).std()\n",
    "    features_list.append('Ret_'+str(r))\n",
    "    features_list.append('Std_'+str(r))\n",
    "\n",
    "# Drop NaN values\n",
    "df.dropna(inplace=True)"
   ]
  },
  {
   "cell_type": "code",
   "execution_count": null,
   "id": "774bc275-3c2f-4e22-bcd9-1862ed4047b2",
   "metadata": {},
   "outputs": [],
   "source": [
    "# Define Target\n",
    "df['Target'] = np.where(df['Adj Close'].shift(-1)>0.995 * df['Adj Close'],1,0)\n",
    "# df = df[:-1]\n",
    "\n",
    "# Check output\n",
    "df"
   ]
  },
  {
   "cell_type": "code",
   "execution_count": null,
   "id": "dbf8c456-411f-4079-bff2-4c843fa919f7",
   "metadata": {},
   "outputs": [],
   "source": [
    "# Convert to NumPy\n",
    "X = df.drop(['Adj Close', 'Returns', 'Ret_1M', 'Target'],axis=1)\n",
    "X.values"
   ]
  },
  {
   "cell_type": "code",
   "execution_count": null,
   "id": "89c297c8-1ba9-4d8b-95a4-e5bab93576e9",
   "metadata": {},
   "outputs": [],
   "source": [
    "# Define label or target\n",
    "y = df['Target']\n",
    "y"
   ]
  },
  {
   "cell_type": "code",
   "execution_count": null,
   "id": "f56f4710-a350-4ac2-a3c3-13aa313aeb70",
   "metadata": {},
   "outputs": [],
   "source": [
    "# Splitting the datasets into training and testing data.\n",
    "X_train, X_test, y_train, y_test = train_test_split(X, y, test_size=0.2, random_state=42, shuffle=False)\n",
    "\n",
    "# Output the train and test data size\n",
    "print(f\"Train and Test Size {len(X_train)}, {len(X_test)}\")"
   ]
  },
  {
   "cell_type": "code",
   "execution_count": null,
   "id": "357eeba7-7c66-48bf-b1d3-d22b0f8b5a89",
   "metadata": {},
   "outputs": [],
   "source": [
    "# Scale and fit the classifier model\n",
    "model =  XGBClassifier(verbosity = 0, silent=True, random_state=42)\n",
    "model.fit(X_train, y_train)"
   ]
  },
  {
   "cell_type": "code",
   "execution_count": null,
   "id": "170eaed3-6c7b-4a99-b95b-7f5259d3b59e",
   "metadata": {},
   "outputs": [],
   "source": [
    "# Predicting the test dataset\n",
    "y_pred = model.predict(X_test)\n",
    "\n",
    "# Predict Probabilities\n",
    "y_proba = model.predict_proba(X_test)"
   ]
  },
  {
   "cell_type": "code",
   "execution_count": null,
   "id": "1dd19c52-5735-4e6e-9a35-d0f09cc786d7",
   "metadata": {},
   "outputs": [],
   "source": [
    "acc_train = accuracy_score(y_train, model.predict(X_train))\n",
    "acc_test = accuracy_score(y_test, y_pred)\n",
    "\n",
    "print(f'Train Accuracy: {acc_train:0.4}, Test Accuracy: {acc_test:0.4}')"
   ]
  },
  {
   "cell_type": "code",
   "execution_count": null,
   "id": "e655d7a2-bbe4-41c9-adb7-b1d8d1fd73fe",
   "metadata": {},
   "outputs": [],
   "source": [
    "# Display confussion matrix\n",
    "disp = ConfusionMatrixDisplay.from_estimator(\n",
    "        model,\n",
    "        X_test,\n",
    "        y_test,\n",
    "        display_labels=model.classes_,\n",
    "        cmap=plt.cm.Blues\n",
    "    )\n",
    "disp.ax_.set_title('Confusion matrix')\n",
    "plt.show()"
   ]
  },
  {
   "cell_type": "code",
   "execution_count": null,
   "id": "bed52f7e-9bd5-4796-b765-df32938d8970",
   "metadata": {},
   "outputs": [],
   "source": [
    "# Classification Report\n",
    "print(classification_report(y_test, y_pred))"
   ]
  },
  {
   "cell_type": "code",
   "execution_count": null,
   "id": "8c54d781-6a44-45ed-9668-67e4c7c0cf70",
   "metadata": {},
   "outputs": [],
   "source": [
    "# Display ROCCurve\n",
    "disp_roc = RocCurveDisplay.from_estimator(\n",
    "            model,\n",
    "            X_test,\n",
    "            y_test,\n",
    "            name='XGBoost')\n",
    "disp_roc.ax_.set_title('ROC Curve')\n",
    "plt.plot([0,1], [0,1], linestyle='--')\n",
    "plt.show()"
   ]
  },
  {
   "cell_type": "code",
   "execution_count": null,
   "id": "de9dc6b8-deee-4a58-af9a-239da8f3232a",
   "metadata": {},
   "outputs": [],
   "source": [
    "# Timeseries CV 3-split\n",
    "# tscv = TimeSeriesSplit(n_splits=4, gap=1) # sklearn 1.0\n",
    "# for train, test in tscv.split(X):\n",
    "#     print(train, test)"
   ]
  },
  {
   "cell_type": "code",
   "execution_count": null,
   "id": "5c5afc4e-d823-44b4-917a-8acb1264dca5",
   "metadata": {},
   "outputs": [],
   "source": [
    "# Cross-validation\n",
    "tscv = TimeSeriesSplit(n_splits=5, gap=1)"
   ]
  },
  {
   "cell_type": "code",
   "execution_count": null,
   "id": "e52a1290-2911-41f1-b739-53491bc1ecf1",
   "metadata": {},
   "outputs": [],
   "source": [
    "# Get params list\n",
    "model.get_params()"
   ]
  },
  {
   "cell_type": "code",
   "execution_count": null,
   "id": "495bb7b3-97d5-4d77-b469-4c572673bef0",
   "metadata": {},
   "outputs": [],
   "source": [
    "# Hyper parameter optimization\n",
    "param_grid = {'learning_rate': [0.05, 0.10, 0.15, 0.20, 0.25, 0.30],\n",
    "              'max_depth': [3, 4, 5, 6, 8, 10, 12, 15],\n",
    "              'min_child_weight': [1, 3, 5, 7],\n",
    "              'gamma': [0.0, 0.1, 0.2 , 0.3, 0.4],\n",
    "              'colsample_bytree': [0.3, 0.4, 0.5 , 0.7]}"
   ]
  },
  {
   "cell_type": "code",
   "execution_count": null,
   "id": "67607699-0786-43f1-9401-868d06ec0273",
   "metadata": {},
   "outputs": [],
   "source": [
    "# perform random search\n",
    "rs = RandomizedSearchCV(model, param_grid, n_iter=100, scoring='f1', cv=tscv, verbose=0)\n",
    "rs.fit(X_train, y_train, verbose=0)"
   ]
  },
  {
   "cell_type": "code",
   "execution_count": null,
   "id": "515353fe-2a5b-45bd-ba96-d8534221bbb6",
   "metadata": {},
   "outputs": [],
   "source": [
    "# best parameters\n",
    "rs.best_params_"
   ]
  },
  {
   "cell_type": "code",
   "execution_count": null,
   "id": "ddff1dde-ce7d-44cd-ae55-b13a5e12891c",
   "metadata": {},
   "outputs": [],
   "source": [
    "# best score\n",
    "rs.best_score_"
   ]
  },
  {
   "cell_type": "code",
   "execution_count": null,
   "id": "8e2419ed-aa9d-49ac-8bea-f7453f72c631",
   "metadata": {},
   "outputs": [],
   "source": [
    "# Refit the XGB Classifier with the best params\n",
    "cls = XGBClassifier(**rs.best_params_)\n",
    "\n",
    "cls.fit(X_train, y_train,\n",
    "        eval_set=[(X_train, y_train), (X_test, y_test)],\n",
    "        # eval_metric='logloss',\n",
    "        verbose=True)"
   ]
  },
  {
   "cell_type": "code",
   "execution_count": null,
   "id": "2edb1ca6-d88b-4c5b-9ad4-0a5a1226f6c3",
   "metadata": {},
   "outputs": [],
   "source": [
    "# Return the evaluation results\n",
    "# evals_result = cls.evals_result()\n",
    "# evals_result"
   ]
  },
  {
   "cell_type": "code",
   "execution_count": null,
   "id": "29690c6d-2b0d-496e-bf23-78ab17bd3239",
   "metadata": {},
   "outputs": [],
   "source": [
    "# Cross validation score\n",
    "score = cross_val_score(cls,X_train,y_train,cv=tscv)\n",
    "print(f'Mean CV Score : {score.mean():0.4}')"
   ]
  },
  {
   "cell_type": "code",
   "execution_count": null,
   "id": "6b06e2a5-89d7-489c-90a6-c510d7ee4582",
   "metadata": {},
   "outputs": [],
   "source": [
    "# Plot feature importance\n",
    "fig, ax = plt.subplots(figsize=(10,8))\n",
    "feature_imp = pd.DataFrame({'Importance Score': cls.feature_importances_,'Features': X.columns}).sort_values(by='Importance Score', ascending=False)\n",
    "\n",
    "sns.barplot(x=feature_imp['Importance Score'], y=feature_imp['Features'])\n",
    "ax.set_title('Features Importance');"
   ]
  },
  {
   "cell_type": "code",
   "execution_count": null,
   "id": "9290b0a6-84c7-49c5-a72c-d3dae105e145",
   "metadata": {},
   "outputs": [],
   "source": [
    "# The Gain is the most relevant attribute to interpret the relative importance of each feature.\n",
    "plot_importance?"
   ]
  },
  {
   "cell_type": "code",
   "execution_count": null,
   "id": "7a8ac0f0-24c7-4b29-8515-8d231fd08bb5",
   "metadata": {},
   "outputs": [],
   "source": [
    "# feature importance_type = 'gain'\n",
    "plot_importance(cls, importance_type='weight', show_values=False);"
   ]
  },
  {
   "cell_type": "code",
   "execution_count": null,
   "id": "52688976-6273-4a86-b1d4-1bae36832d12",
   "metadata": {},
   "outputs": [],
   "source": [
    "import shap\n",
    "explainer = shap.TreeExplainer(cls)\n",
    "shap_values = explainer.shap_values(X_test)"
   ]
  },
  {
   "cell_type": "code",
   "execution_count": null,
   "id": "c6384dca-4b43-41f9-8427-be07077ede08",
   "metadata": {},
   "outputs": [],
   "source": [
    "# future importance summary\n",
    "shap.summary_plot(shap_values, X_test, plot_type=\"bar\")"
   ]
  },
  {
   "cell_type": "code",
   "execution_count": null,
   "id": "0ee116b0-4e16-4a42-a83f-d703dbba38b0",
   "metadata": {},
   "outputs": [],
   "source": [
    "# interpretation plot\n",
    "shap.summary_plot(shap_values, X_test)"
   ]
  },
  {
   "cell_type": "code",
   "execution_count": null,
   "id": "c9d888b1-a274-4fc7-8880-a764a33c114e",
   "metadata": {},
   "outputs": [],
   "source": [
    "## Tree Visualization\n",
    "# change tree number to see the corresponding plot\n",
    "to_graphviz(cls, num_trees=10, rankdir='UT')"
   ]
  },
  {
   "cell_type": "code",
   "execution_count": null,
   "id": "3fb38324-9cfd-499f-8aec-8bca2bd8e2d4",
   "metadata": {},
   "outputs": [],
   "source": [
    "# Predicting the test dataset\n",
    "y_pred = cls.predict(X_test)\n",
    "\n",
    "# Measure Accuracy\n",
    "acc_train = accuracy_score(y_train, cls.predict(X_train))\n",
    "acc_test = accuracy_score(y_test, y_pred)\n",
    "\n",
    "# Print Accuracy\n",
    "print(f'\\n Training Accuracy \\t: {acc_train :0.4} \\n Test Accuracy \\t\\t: {acc_test :0.4}')"
   ]
  },
  {
   "cell_type": "code",
   "execution_count": null,
   "id": "f45de715-fb6d-4a8f-9b6b-c371a8fd9459",
   "metadata": {},
   "outputs": [],
   "source": [
    "# Display confussion matrix\n",
    "disp = ConfusionMatrixDisplay.from_estimator(\n",
    "        cls,\n",
    "        X_test,\n",
    "        y_test,\n",
    "        display_labels=model.classes_,\n",
    "        cmap=plt.cm.Blues\n",
    "    )\n",
    "disp.ax_.set_title('Confusion matrix')\n",
    "plt.show()"
   ]
  },
  {
   "cell_type": "code",
   "execution_count": null,
   "id": "0be0b092-dace-4af9-a2d9-8dc7691beaba",
   "metadata": {},
   "outputs": [],
   "source": [
    "# Classification Report\n",
    "print(classification_report(y_test, y_pred))"
   ]
  },
  {
   "cell_type": "code",
   "execution_count": null,
   "id": "464d649c-f549-43d7-a52b-09767e5dd4cf",
   "metadata": {},
   "outputs": [],
   "source": [
    "# Display ROCCurve\n",
    "disp_roc = RocCurveDisplay.from_estimator(\n",
    "            cls,\n",
    "            X_test,\n",
    "            y_test,\n",
    "            name='Tuned XGBoost')\n",
    "disp_roc.ax_.set_title('ROC Curve')\n",
    "plt.plot([0,1], [0,1], linestyle='--')\n",
    "plt.show()"
   ]
  },
  {
   "cell_type": "code",
   "execution_count": null,
   "id": "598e8158-1a5d-49e8-aee4-93e7d590541b",
   "metadata": {},
   "outputs": [],
   "source": []
  }
 ],
 "metadata": {
  "kernelspec": {
   "display_name": "Python 3 (ipykernel)",
   "language": "python",
   "name": "python3"
  },
  "language_info": {
   "codemirror_mode": {
    "name": "ipython",
    "version": 3
   },
   "file_extension": ".py",
   "mimetype": "text/x-python",
   "name": "python",
   "nbconvert_exporter": "python",
   "pygments_lexer": "ipython3",
   "version": "3.11.3"
  }
 },
 "nbformat": 4,
 "nbformat_minor": 5
}
